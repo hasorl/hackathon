{
 "cells": [
  {
   "cell_type": "code",
   "execution_count": 14,
   "id": "e4698ab1-726b-4588-929e-ce6162222ab4",
   "metadata": {},
   "outputs": [
    {
     "name": "stdout",
     "output_type": "stream",
     "text": [
      "암호화된 데이터: P6MSIu0GhAff9K+cYTiDLaRWiBXFB6B+NFL6Nm8MYM0=\n",
      "복호화된 데이터: 고객 만족도\n"
     ]
    }
   ],
   "source": [
    "from Crypto.Cipher import AES\n",
    "import base64\n",
    "from Crypto.Util.Padding import pad, unpad\n",
    "\n",
    "# AES 암호화 클래스\n",
    "class AESCipher:\n",
    "    def __init__(self, key):\n",
    "        self.key = key.zfill(32).encode()  # 32바이트 키로 패딩 (256비트)\n",
    "\n",
    "    def encrypt(self, raw):\n",
    "        raw = pad(raw.encode(), AES.block_size)  # PKCS7 패딩 적용\n",
    "        cipher = AES.new(self.key, AES.MODE_ECB)  # ECB 모드\n",
    "        encrypted = cipher.encrypt(raw)\n",
    "        return base64.b64encode(encrypted).decode()  # Base64로 인코딩하여 반환\n",
    "\n",
    "    def decrypt(self, enc):\n",
    "        enc = base64.b64decode(enc)  # Base64 디코딩\n",
    "        cipher = AES.new(self.key, AES.MODE_ECB)  # ECB 모드\n",
    "        decrypted = cipher.decrypt(enc)\n",
    "        return unpad(decrypted, AES.block_size).decode()  # 패딩 제거 후 복호화 결과 반환\n",
    "\n",
    "# 키 설정\n",
    "key = \"new_short_key\"  # 대칭 키\n",
    "\n",
    "# 데이터 암호화\n",
    "aes_cipher = AESCipher(key)\n",
    "data = \"고객 만족도\"  # 암호화할 평문\n",
    "encrypted_data = aes_cipher.encrypt(data)\n",
    "print(\"암호화된 데이터:\", encrypted_data)\n",
    "\n",
    "# 데이터 복호화\n",
    "decrypted_data = aes_cipher.decrypt(encrypted_data)\n",
    "print(\"복호화된 데이터:\", decrypted_data)"
   ]
  }
 ],
 "metadata": {
  "kernelspec": {
   "display_name": "Python 3 (ipykernel)",
   "language": "python",
   "name": "python3"
  },
  "language_info": {
   "codemirror_mode": {
    "name": "ipython",
    "version": 3
   },
   "file_extension": ".py",
   "mimetype": "text/x-python",
   "name": "python",
   "nbconvert_exporter": "python",
   "pygments_lexer": "ipython3",
   "version": "3.12.4"
  }
 },
 "nbformat": 4,
 "nbformat_minor": 5
}
