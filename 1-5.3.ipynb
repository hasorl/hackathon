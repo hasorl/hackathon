{
 "cells": [
  {
   "cell_type": "markdown",
   "id": "1835ca52-993c-4c8b-9a92-8e80271c0f8b",
   "metadata": {},
   "source": [
    "# 1-5.3"
   ]
  },
  {
   "cell_type": "code",
   "execution_count": 27,
   "id": "0808c130-3021-43ee-9a4c-ef0fa79d88cf",
   "metadata": {},
   "outputs": [
    {
     "name": "stdout",
     "output_type": "stream",
     "text": [
      "암호화된 데이터: ftbmWGz+uI776AomGSDIl+xDOvkF9KZ9ulxpCkt+j9kO9ttaUNX5jCxt5r+MvNsS\n",
      "복호화된 데이터: 카카오톡 플친 수\n"
     ]
    }
   ],
   "source": [
    "from Crypto.Cipher import AES  # AES 암호화 관련 함수들 임포트\n",
    "from Crypto.Util.Padding import pad, unpad  # PKCS7 패딩을 위한 함수 임포트\n",
    "from Crypto.Random import get_random_bytes  # 랜덤한 바이트 생성을 위한 함수 임포트\n",
    "import base64  # Base64 인코딩/디코딩을 위한 라이브러리 임포트\n",
    "\n",
    "# AES 암호화 클래스 정의\n",
    "class AESCipher:\n",
    "    def __init__(self, key):\n",
    "        # 32바이트로 키를 패딩하여 256비트 키로 확장\n",
    "        self.key = key.zfill(32).encode()  # 키를 32바이트로 패딩하고 바이트 형식으로 변환\n",
    "\n",
    "    def encrypt(self, raw):\n",
    "        # 데이터에 PKCS7 패딩을 추가하여 AES 블록 크기에 맞춤\n",
    "        raw = pad(raw.encode(), AES.block_size)  # 패딩 적용\n",
    "\n",
    "        # 초기화 벡터(IV)는 암호화마다 새롭게 생성\n",
    "        iv = get_random_bytes(AES.block_size)  # AES 블록 크기(16바이트)로 랜덤 IV 생성\n",
    "\n",
    "        # CBC 모드로 AES 암호화 객체 생성\n",
    "        cipher = AES.new(self.key, AES.MODE_CBC, iv)\n",
    "\n",
    "        # 데이터를 암호화하고 암호화된 결과와 IV를 결합하여 반환\n",
    "        encrypted = cipher.encrypt(raw)\n",
    "        return base64.b64encode(iv + encrypted).decode()  # IV와 암호화된 데이터를 결합하고 Base64로 인코딩하여 반환\n",
    "\n",
    "    def decrypt(self, enc):\n",
    "        # base64로 인코딩된 암호화된 데이터를 디코딩\n",
    "        enc = base64.b64decode(enc)  # Base64 디코딩\n",
    "\n",
    "        # IV와 암호화된 데이터 분리\n",
    "        iv = enc[:AES.block_size]  # 앞 16바이트는 IV\n",
    "        encrypted_data = enc[AES.block_size:]  # 나머지는 암호화된 데이터\n",
    "\n",
    "        # CBC 모드로 AES 복호화 객체 생성\n",
    "        cipher = AES.new(self.key, AES.MODE_CBC, iv)\n",
    "\n",
    "        # 데이터를 복호화하고 패딩을 제거\n",
    "        decrypted = unpad(cipher.decrypt(encrypted_data), AES.block_size)  # 복호화된 데이터에서 패딩을 제거\n",
    "        return decrypted.decode()  # 복호화된 데이터를 문자열로 반환\n",
    "\n",
    "# 키 설정 (16바이트로 설정, 128비트 키)\n",
    "key = \"new_short_key\"  # 대칭 키\n",
    "\n",
    "# 암호화할 데이터 (카카오톡 플친 수라는 단어)\n",
    "data = \"카카오톡 플친 수\"  # 암호화할 텍스트\n",
    "\n",
    "# AES 암호화 및 복호화 수행\n",
    "aes_cipher = AESCipher(key)  # `AESCipher` 객체를 생성하고 키를 전달\n",
    "\n",
    "# 암호화\n",
    "encrypted_data = aes_cipher.encrypt(data)  # 데이터를 암호화\n",
    "print(\"암호화된 데이터:\", encrypted_data)  # 암호화된 데이터를 출력\n",
    "\n",
    "# 복호화\n",
    "decrypted_data = aes_cipher.decrypt(encrypted_data)  # 암호화된 데이터를 복호화\n",
    "print(\"복호화된 데이터:\", decrypted_data)  # 복호화된 데이터를 출력, \"카카오톡 플친 수\" 출력 예상\n"
   ]
  },
  {
   "cell_type": "code",
   "execution_count": null,
   "id": "ab115e60-d495-4dd8-b463-46c5eb8f5aea",
   "metadata": {},
   "outputs": [],
   "source": []
  }
 ],
 "metadata": {
  "kernelspec": {
   "display_name": "Python 3 (ipykernel)",
   "language": "python",
   "name": "python3"
  },
  "language_info": {
   "codemirror_mode": {
    "name": "ipython",
    "version": 3
   },
   "file_extension": ".py",
   "mimetype": "text/x-python",
   "name": "python",
   "nbconvert_exporter": "python",
   "pygments_lexer": "ipython3",
   "version": "3.12.4"
  }
 },
 "nbformat": 4,
 "nbformat_minor": 5
}
